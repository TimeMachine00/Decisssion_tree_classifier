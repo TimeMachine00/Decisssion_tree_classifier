{
 "cells": [
  {
   "cell_type": "markdown",
   "id": "c441b900",
   "metadata": {},
   "source": [
    "# created by hussainatphysics@gmail.com(hussainsha syed)"
   ]
  },
  {
   "cell_type": "code",
   "execution_count": 2,
   "id": "7a868616",
   "metadata": {},
   "outputs": [],
   "source": [
    "import pandas as pd"
   ]
  },
  {
   "cell_type": "markdown",
   "id": "53332d04",
   "metadata": {},
   "source": [
    "# loading data"
   ]
  },
  {
   "cell_type": "code",
   "execution_count": 3,
   "id": "822343e7",
   "metadata": {},
   "outputs": [],
   "source": [
    "loadData = pd.read_csv(\"C:\\\\Users\\\\HussainSha\\\\ML_forGithub\\\\Decission_tree_classifier\\\\winequality-red.csv\")"
   ]
  },
  {
   "cell_type": "code",
   "execution_count": 4,
   "id": "9f20d42b",
   "metadata": {},
   "outputs": [],
   "source": [
    "from sklearn.model_selection import train_test_split"
   ]
  },
  {
   "cell_type": "code",
   "execution_count": 5,
   "id": "58f72ac7",
   "metadata": {},
   "outputs": [
    {
     "data": {
      "text/plain": [
       "['fixed acidity',\n",
       " 'volatile acidity',\n",
       " 'citric acid',\n",
       " 'residual sugar',\n",
       " 'chlorides',\n",
       " 'free sulfur dioxide',\n",
       " 'total sulfur dioxide',\n",
       " 'density',\n",
       " 'pH',\n",
       " 'sulphates',\n",
       " 'alcohol',\n",
       " 'quality']"
      ]
     },
     "execution_count": 5,
     "metadata": {},
     "output_type": "execute_result"
    }
   ],
   "source": [
    "list(loadData)"
   ]
  },
  {
   "cell_type": "code",
   "execution_count": 6,
   "id": "c8d36097",
   "metadata": {},
   "outputs": [],
   "source": [
    "x = loadData.drop('quality',axis='columns')"
   ]
  },
  {
   "cell_type": "code",
   "execution_count": 7,
   "id": "82df947b",
   "metadata": {},
   "outputs": [],
   "source": [
    "y = loadData.drop(['fixed acidity',\n",
    " 'volatile acidity',\n",
    " 'citric acid',\n",
    " 'residual sugar',\n",
    " 'chlorides',\n",
    " 'free sulfur dioxide',\n",
    " 'total sulfur dioxide',\n",
    " 'density',\n",
    " 'pH',\n",
    " 'sulphates',\n",
    " 'alcohol'], axis='columns')"
   ]
  },
  {
   "cell_type": "code",
   "execution_count": 8,
   "id": "efc7d444",
   "metadata": {},
   "outputs": [],
   "source": [
    "xtrain, xtest, ytrain, ytest = train_test_split(x,y, test_size=0.1, random_state=0)"
   ]
  },
  {
   "cell_type": "code",
   "execution_count": 9,
   "id": "3f53f7df",
   "metadata": {},
   "outputs": [],
   "source": [
    "from sklearn.tree import DecisionTreeClassifier"
   ]
  },
  {
   "cell_type": "code",
   "execution_count": 10,
   "id": "9b22e2bb",
   "metadata": {},
   "outputs": [],
   "source": [
    "dec_cla = DecisionTreeClassifier()"
   ]
  },
  {
   "cell_type": "code",
   "execution_count": 11,
   "id": "8f394a4a",
   "metadata": {},
   "outputs": [
    {
     "data": {
      "text/plain": [
       "DecisionTreeClassifier()"
      ]
     },
     "execution_count": 11,
     "metadata": {},
     "output_type": "execute_result"
    }
   ],
   "source": [
    "dec_cla.fit(xtrain, ytrain)"
   ]
  },
  {
   "cell_type": "code",
   "execution_count": 12,
   "id": "c9c622bd",
   "metadata": {},
   "outputs": [],
   "source": [
    "pred = dec_cla.predict(xtest)"
   ]
  },
  {
   "cell_type": "code",
   "execution_count": 13,
   "id": "1d26e25f",
   "metadata": {},
   "outputs": [],
   "source": [
    "from sklearn.metrics import accuracy_score"
   ]
  },
  {
   "cell_type": "code",
   "execution_count": 14,
   "id": "a396fd14",
   "metadata": {},
   "outputs": [
    {
     "data": {
      "text/plain": [
       "0.65625"
      ]
     },
     "execution_count": 14,
     "metadata": {},
     "output_type": "execute_result"
    }
   ],
   "source": [
    "accuracy_score(pred, ytest)"
   ]
  },
  {
   "cell_type": "code",
   "execution_count": 16,
   "id": "c16bfaf5",
   "metadata": {},
   "outputs": [
    {
     "data": {
      "text/plain": [
       "array([6, 5, 7, 5, 5, 6, 4, 6, 6, 5, 5, 5, 6, 6, 7, 7, 7, 5, 5, 4, 7, 6,\n",
       "       6, 6, 5, 6, 5, 6, 5, 6, 5, 6, 6, 5, 7, 7, 5, 6, 5, 5, 6, 6, 6, 7,\n",
       "       5, 5, 6, 6, 6, 6, 5, 4, 6, 6, 6, 5, 5, 5, 6, 5, 6, 6, 4, 5, 5, 6,\n",
       "       5, 5, 5, 6, 6, 6, 5, 5, 6, 6, 5, 5, 5, 7, 6, 6, 6, 7, 6, 3, 6, 5,\n",
       "       5, 5, 5, 6, 7, 5, 5, 6, 6, 5, 5, 5, 6, 5, 6, 6, 5, 3, 5, 5, 5, 5,\n",
       "       6, 5, 8, 5, 6, 6, 6, 7, 4, 6, 5, 4, 6, 6, 8, 7, 5, 5, 5, 6, 6, 6,\n",
       "       7, 4, 6, 5, 6, 6, 7, 5, 6, 5, 6, 6, 5, 6, 8, 6, 5, 7, 6, 5, 5, 5,\n",
       "       6, 4, 6, 5, 6, 6], dtype=int64)"
      ]
     },
     "execution_count": 16,
     "metadata": {},
     "output_type": "execute_result"
    }
   ],
   "source": [
    "pred"
   ]
  },
  {
   "cell_type": "code",
   "execution_count": null,
   "id": "077eba79",
   "metadata": {},
   "outputs": [],
   "source": []
  }
 ],
 "metadata": {
  "kernelspec": {
   "display_name": "Python 3",
   "language": "python",
   "name": "python3"
  },
  "language_info": {
   "codemirror_mode": {
    "name": "ipython",
    "version": 3
   },
   "file_extension": ".py",
   "mimetype": "text/x-python",
   "name": "python",
   "nbconvert_exporter": "python",
   "pygments_lexer": "ipython3",
   "version": "3.8.8"
  }
 },
 "nbformat": 4,
 "nbformat_minor": 5
}
